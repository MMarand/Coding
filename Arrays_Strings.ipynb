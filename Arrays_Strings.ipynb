{
 "cells": [
  {
   "cell_type": "markdown",
   "metadata": {},
   "source": [
    "# Cracking the Coding Interview\n",
    "## Chapter 1: Arrays and Strings"
   ]
  },
  {
   "cell_type": "markdown",
   "metadata": {},
   "source": [
    "Q1 - \n",
    "Question 1.1 isUnique ?\n",
    "Question: Get a string and see if it has a repeated character\n",
    "Algorithm: A false list, gets true when you see a char, return false when see again\n",
    "Assumption: ASCII 128 characters (or 256 ASCII or Unicode)"
   ]
  },
  {
   "cell_type": "code",
   "execution_count": 1,
   "metadata": {},
   "outputs": [
    {
     "name": "stdout",
     "output_type": "stream",
     "text": [
      "False\n"
     ]
    }
   ],
   "source": [
    "def isUnique(string):\n",
    "    if len(string)>128:\n",
    "        return False\n",
    "    char_list = [False for n in range(128)]\n",
    "    for char in string:\n",
    "        char_val = ord(char)\n",
    "        if char_list[char_val]:\n",
    "            return False\n",
    "        char_list[char_val] = True\n",
    "    return True\n",
    "print(isUnique('sghjn%%'))"
   ]
  },
  {
   "cell_type": "code",
   "execution_count": null,
   "metadata": {},
   "outputs": [],
   "source": []
  }
 ],
 "metadata": {
  "kernelspec": {
   "display_name": "Python 3",
   "language": "python",
   "name": "python3"
  },
  "language_info": {
   "codemirror_mode": {
    "name": "ipython",
    "version": 3
   },
   "file_extension": ".py",
   "mimetype": "text/x-python",
   "name": "python",
   "nbconvert_exporter": "python",
   "pygments_lexer": "ipython3",
   "version": "3.7.3"
  }
 },
 "nbformat": 4,
 "nbformat_minor": 2
}
