{
 "cells": [
  {
   "cell_type": "markdown",
   "metadata": {},
   "source": [
    "# Cracking the Coding Interview\n",
    "## Chapter 1: Arrays and Strings"
   ]
  },
  {
   "cell_type": "markdown",
   "metadata": {},
   "source": [
    "Q1 - \n",
    "Question 1.1 isUnique ?\n",
    "Question: Get a string and see if it has a repeated character \n",
    "\n",
    "Algorithm: A false list, gets true when you see a char, return false when see again\n",
    "\n",
    "\n",
    "Assumption: ASCII 128 characters (or 256 ASCII or Unicode)"
   ]
  },
  {
   "cell_type": "code",
   "execution_count": 1,
   "metadata": {},
   "outputs": [
    {
     "name": "stdout",
     "output_type": "stream",
     "text": [
      "False\n"
     ]
    }
   ],
   "source": [
    "def isUnique(string):\n",
    "    if len(string)>128:\n",
    "        return False\n",
    "    char_list = [False for n in range(128)]\n",
    "    for char in string:\n",
    "        char_val = ord(char)\n",
    "        if char_list[char_val]:\n",
    "            return False\n",
    "        char_list[char_val] = True\n",
    "    return True\n",
    "print(isUnique('sghjn%%'))"
   ]
  },
  {
   "cell_type": "markdown",
   "metadata": {},
   "source": [
    "Q2- Question 1.2 is Permute? Gieven two strings, determine if they are permuations? Have exact same characters?\n",
    "\n",
    "Solution 1: Sort and compare strings\n",
    "\n",
    "Solution 2: Keep a list for counts of the first string. Count back for the 2nd string, and watch for negative count\n",
    "\n",
    "lower() if not case sensitive"
   ]
  },
  {
   "cell_type": "code",
   "execution_count": 7,
   "metadata": {},
   "outputs": [
    {
     "name": "stdout",
     "output_type": "stream",
     "text": [
      "False\n",
      "False\n"
     ]
    }
   ],
   "source": [
    "# Solution 1: sort strings and compare (for case insensitive convert all to lower case)\n",
    "def ispermut2(s,p):\n",
    "    if len(s) != len(p):\n",
    "        return False\n",
    "    s = ''.join(sorted(s)).lower()\n",
    "    p = ''.join(sorted(p)).lower()\n",
    "    if s == p:\n",
    "        return True\n",
    "    return False\n",
    "print(ispermut2('gog','gDo'))\n",
    "# solution 2: keep a list\n",
    "def ispermut3(s,p):\n",
    "    if len(s) != len(p):\n",
    "        return False\n",
    "    charlist = [0 for i in range(128)]\n",
    "    for char in s:\n",
    "        charlist[ord(char)] += 1\n",
    "    for char in p:\n",
    "        charlist[ord(char)] -= 1\n",
    "        if charlist[ord(char)] < 0:\n",
    "            return False\n",
    "    return True\n",
    "print(ispermut3('dog','gDo'))"
   ]
  },
  {
   "cell_type": "markdown",
   "metadata": {},
   "source": [
    "Q4: Question 1.4: Given a string determine if it is a permutation of a palindrome. \n",
    "\n",
    "Solution: Palindrome is a string that reads the same from both left and right (e.g. \"tacdcat\"). To be a permutation means to have exact same characters. So count how many times a character is reapeated. Only one character at most is allowed to have odd count!"
   ]
  },
  {
   "cell_type": "code",
   "execution_count": 13,
   "metadata": {},
   "outputs": [
    {
     "name": "stdout",
     "output_type": "stream",
     "text": [
      "True\n"
     ]
    }
   ],
   "source": [
    "def is_permute_of_palindrome_1(string):\n",
    "    char_dict = {}\n",
    "    for char in string:\n",
    "        if char in char_dict.keys():\n",
    "            char_dict[char] += 1\n",
    "        else:\n",
    "            char_dict[char] = 1\n",
    "    charcounts = char_dict.values()\n",
    "    flag = False\n",
    "    for count in charcounts:\n",
    "        if count%2 != 0:\n",
    "            if not flag:\n",
    "                flag = True\n",
    "            else:\n",
    "                return False\n",
    "    return True\n",
    "print(is_permute_of_palindrome_1(\"awsaw\"))"
   ]
  },
  {
   "cell_type": "markdown",
   "metadata": {},
   "source": [
    "Q5: There are 3 types of edits in string: add a char, replace a char, remove a char. Given two strings determine if they are one edit away\n",
    "\n",
    "Solution: if their length differ by one: drop one char and compare the rest\n",
    "if their length is equal, check to see if they differ only in one place"
   ]
  },
  {
   "cell_type": "code",
   "execution_count": 19,
   "metadata": {},
   "outputs": [
    {
     "name": "stdout",
     "output_type": "stream",
     "text": [
      "True\n"
     ]
    }
   ],
   "source": [
    "def Oneaway(s,p):\n",
    "    if s==p: return True\n",
    "    if abs(len(s) - len(p))>1 : return False\n",
    "    if len(s) - len(p)==1:\n",
    "        return checkInsDel2(p,s)\n",
    "    if len(s) - len(p) == -1:\n",
    "        return checkInsDel2(s,p)\n",
    "    if len(s) == len(p):\n",
    "        Flag = False\n",
    "        for i, item in enumerate(s):\n",
    "            if item != p[i]:\n",
    "                if Flag:\n",
    "                    return False\n",
    "                Flag = True\n",
    "        return True\n",
    "def checkInsDel(shorter,longer):\n",
    "    for i in range(len(longer)):\n",
    "        tmp = longer[0:i]+longer[i+1:]\n",
    "        if shorter == tmp: return True\n",
    "    return False\n",
    "def checkInsDel2(shorter,longer):\n",
    "    ind_s = 0\n",
    "    ind_l = 0\n",
    "    while ind_s<len(shorter) and ind_l<len(longer):\n",
    "        if shorter[ind_s]!=longer[ind_l]:\n",
    "            if ind_s != ind_l:\n",
    "                return False\n",
    "            else:\n",
    "                ind_l += 1\n",
    "        else:\n",
    "            ind_s +=1\n",
    "            ind_l +=1\n",
    "    return True\n",
    "print(Oneaway('swd','ewd'))"
   ]
  },
  {
   "cell_type": "markdown",
   "metadata": {},
   "source": [
    "Q6: write a simple compression to convert e.g. \"FFrrree\" to \"F2r3e2\"\n",
    "\n",
    "Solution: iterate over chars, keep a count of them, merge later\n",
    "    "
   ]
  },
  {
   "cell_type": "code",
   "execution_count": 24,
   "metadata": {},
   "outputs": [
    {
     "name": "stdout",
     "output_type": "stream",
     "text": [
      "T1a1r2i5d4m1\n"
     ]
    }
   ],
   "source": [
    "def toCompress(s):\n",
    "    char_list = [s[0]]\n",
    "    count = 1\n",
    "    for i in range(len(s)-1):\n",
    "        if s[i] == s[i+1]:\n",
    "            count +=1\n",
    "        elif s[i] != s[i+1]:\n",
    "            char_list.append(str(count)+s[i+1])\n",
    "            count = 1\n",
    "    char_list.append(str(count))\n",
    "    compressed = ''.join(char_list)\n",
    "    if len(compressed)<len(s):\n",
    "        return compressed\n",
    "    else:\n",
    "        return s\n",
    "print(toCompress('Tarriiiiiddddm'))"
   ]
  },
  {
   "cell_type": "markdown",
   "metadata": {},
   "source": [
    "Q7: Given an NxN matrix, rotate it 90 degree\n",
    "\n",
    "Solution: index by index"
   ]
  },
  {
   "cell_type": "code",
   "execution_count": 25,
   "metadata": {},
   "outputs": [
    {
     "name": "stdout",
     "output_type": "stream",
     "text": [
      "[[1, 2, 3], [3, 2, 1], [4, 7, 8]] \n",
      " [[4, 3, 1], [7, 2, 2], [8, 1, 3]]\n"
     ]
    }
   ],
   "source": [
    "def rotMatrix(a):\n",
    "    if len(a)==0 or len(a)!=len(a[0]):\n",
    "        return False\n",
    "    N = len(a)\n",
    "    rotated = [[0 for j in range(N)] for i in range(N)]\n",
    "    for i in range(N):\n",
    "        for j in range(N):\n",
    "            rotated[j][N - i - 1] = a[i][j]\n",
    "    return rotated\n",
    "a = [[1,2,3],[3,2,1],[4,7,8]]\n",
    "print (a, '\\n',rotMatrix(a))"
   ]
  },
  {
   "cell_type": "code",
   "execution_count": null,
   "metadata": {},
   "outputs": [],
   "source": []
  }
 ],
 "metadata": {
  "kernelspec": {
   "display_name": "Python 3",
   "language": "python",
   "name": "python3"
  },
  "language_info": {
   "codemirror_mode": {
    "name": "ipython",
    "version": 3
   },
   "file_extension": ".py",
   "mimetype": "text/x-python",
   "name": "python",
   "nbconvert_exporter": "python",
   "pygments_lexer": "ipython3",
   "version": "3.7.3"
  }
 },
 "nbformat": 4,
 "nbformat_minor": 2
}
