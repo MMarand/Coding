{
 "cells": [
  {
   "cell_type": "markdown",
   "metadata": {},
   "source": [
    "# Build a Tree"
   ]
  },
  {
   "cell_type": "code",
   "execution_count": 5,
   "metadata": {},
   "outputs": [],
   "source": [
    "class TreeNode(object):\n",
    "    def __init__(self, data):\n",
    "        self.val = data\n",
    "        self.children = []"
   ]
  },
  {
   "cell_type": "code",
   "execution_count": 11,
   "metadata": {},
   "outputs": [],
   "source": [
    "class BinTreeNode(object):\n",
    "    def __init__(self, data):\n",
    "        self.val = data\n",
    "        self.right = None\n",
    "        self.left = None"
   ]
  },
  {
   "cell_type": "code",
   "execution_count": 6,
   "metadata": {},
   "outputs": [],
   "source": [
    "m10 = TreeNode(10)\n",
    "m13 = TreeNode(13)\n",
    "m18 = TreeNode(18)\n",
    "m14 = TreeNode(14)\n",
    "m9 = TreeNode(9)"
   ]
  },
  {
   "cell_type": "code",
   "execution_count": 7,
   "metadata": {},
   "outputs": [],
   "source": [
    "m10.children = [m13, m18, m14]\n",
    "m14.children = [m9]"
   ]
  },
  {
   "cell_type": "markdown",
   "metadata": {},
   "source": [
    "# given a list of integers, build a binary search tree"
   ]
  },
  {
   "cell_type": "code",
   "execution_count": 45,
   "metadata": {},
   "outputs": [],
   "source": [
    "\n",
    "class BinTree(object):\n",
    "    count = 0\n",
    "    def AddtoBinSearchTree(self,array,start,end):\n",
    "        \"\"\"\n",
    "        this function buils a binary search tree from a SORTED list\n",
    "        \"\"\"\n",
    "        if start > end:\n",
    "            return False\n",
    "        mid = int((start + end)/2)\n",
    "        root = BinTreeNode(array[mid])\n",
    "        root.right = self.AddtoBinSearchTree(array,mid+1,end)\n",
    "        root.left = self.AddtoBinSearchTree(array,start,mid-1)\n",
    "        return root\n",
    "    \n",
    "    def ViewTree(self, root):\n",
    "        if root:\n",
    "            self.ViewTree(root.left)\n",
    "            self.count += 1\n",
    "            print(root.val, \"\\t\", self.count)\n",
    "            self.ViewTree(root.right)"
   ]
  },
  {
   "cell_type": "code",
   "execution_count": 46,
   "metadata": {},
   "outputs": [],
   "source": [
    "testlist = [3,4,6,2,1,88,33,11,44,98,23,53,12]\n",
    "Bin = BinTree()\n",
    "root = Bin.AddtoBinSearchTree(sorted(testlist),0,len(testlist)-1)"
   ]
  },
  {
   "cell_type": "code",
   "execution_count": 47,
   "metadata": {},
   "outputs": [
    {
     "name": "stdout",
     "output_type": "stream",
     "text": [
      "12\n",
      "44\n",
      "3\n"
     ]
    }
   ],
   "source": [
    "print(root.val)\n",
    "print(root.right.val)\n",
    "print(root.left.val)"
   ]
  },
  {
   "cell_type": "code",
   "execution_count": 48,
   "metadata": {},
   "outputs": [
    {
     "name": "stdout",
     "output_type": "stream",
     "text": [
      "44\n",
      "88\n",
      "23\n"
     ]
    }
   ],
   "source": [
    "print(root.right.val)\n",
    "print(root.right.right.val)\n",
    "print(root.right.left.val)"
   ]
  },
  {
   "cell_type": "code",
   "execution_count": 49,
   "metadata": {},
   "outputs": [
    {
     "name": "stdout",
     "output_type": "stream",
     "text": [
      "1 \t 1\n",
      "2 \t 2\n",
      "3 \t 3\n",
      "4 \t 4\n",
      "6 \t 5\n",
      "11 \t 6\n",
      "12 \t 7\n",
      "23 \t 8\n",
      "33 \t 9\n",
      "44 \t 10\n",
      "53 \t 11\n",
      "88 \t 12\n",
      "98 \t 13\n"
     ]
    }
   ],
   "source": [
    "Bin.ViewTree(root)"
   ]
  },
  {
   "cell_type": "code",
   "execution_count": null,
   "metadata": {},
   "outputs": [],
   "source": []
  }
 ],
 "metadata": {
  "kernelspec": {
   "display_name": "Python 3",
   "language": "python",
   "name": "python3"
  },
  "language_info": {
   "codemirror_mode": {
    "name": "ipython",
    "version": 3
   },
   "file_extension": ".py",
   "mimetype": "text/x-python",
   "name": "python",
   "nbconvert_exporter": "python",
   "pygments_lexer": "ipython3",
   "version": "3.7.3"
  }
 },
 "nbformat": 4,
 "nbformat_minor": 2
}
